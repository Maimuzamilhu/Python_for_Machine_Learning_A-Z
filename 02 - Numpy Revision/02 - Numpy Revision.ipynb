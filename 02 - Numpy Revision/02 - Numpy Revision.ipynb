{
 "cells": [
  {
   "cell_type": "markdown",
   "id": "823295af",
   "metadata": {},
   "source": [
    "# Numpy Revision\n",
    "\n",
    "####  Numpy is Python Library used for working with Arrays\n",
    "\n",
    "#### It also has functions for working in domain of linear algebra , fourier transform , and matrices"
   ]
  },
  {
   "cell_type": "code",
   "execution_count": 2,
   "id": "76555be6",
   "metadata": {},
   "outputs": [],
   "source": [
    "import numpy as np"
   ]
  },
  {
   "cell_type": "code",
   "execution_count": 3,
   "id": "d73e4b4f",
   "metadata": {},
   "outputs": [
    {
     "data": {
      "text/plain": [
       "'1.24.3'"
      ]
     },
     "execution_count": 3,
     "metadata": {},
     "output_type": "execute_result"
    }
   ],
   "source": [
    "np.__version__"
   ]
  },
  {
   "cell_type": "code",
   "execution_count": 4,
   "id": "3af0a9cf",
   "metadata": {},
   "outputs": [
    {
     "data": {
      "text/plain": [
       "(array([1, 2, 3, 4]), numpy.ndarray, (4,), 1)"
      ]
     },
     "execution_count": 4,
     "metadata": {},
     "output_type": "execute_result"
    }
   ],
   "source": [
    "a = np.array((1 , 2 , 3 , 4 ) )\n",
    "a , type(a) , a.shape , a.ndim #ndim is dimesion"
   ]
  },
  {
   "cell_type": "code",
   "execution_count": 5,
   "id": "47febaa4",
   "metadata": {},
   "outputs": [
    {
     "data": {
      "text/plain": [
       "(array([1, 2, 3, 4]), numpy.ndarray, (4,), 1)"
      ]
     },
     "execution_count": 5,
     "metadata": {},
     "output_type": "execute_result"
    }
   ],
   "source": [
    "# 1-D array\n",
    "a = np.array((1 , 2 , 3 , 4  ))\n",
    "a , type(a) , a.shape , a.ndim "
   ]
  },
  {
   "cell_type": "code",
   "execution_count": 6,
   "id": "91388955",
   "metadata": {},
   "outputs": [
    {
     "data": {
      "text/plain": [
       "(array(2), numpy.ndarray, (), 0)"
      ]
     },
     "execution_count": 6,
     "metadata": {},
     "output_type": "execute_result"
    }
   ],
   "source": [
    "# 0-D array\n",
    "a = np.array(2)\n",
    "a , type(a) , a.shape , a.ndim "
   ]
  },
  {
   "cell_type": "code",
   "execution_count": 7,
   "id": "f3878f5e",
   "metadata": {},
   "outputs": [
    {
     "data": {
      "text/plain": [
       "(array([[ 1,  2,  3,  5],\n",
       "        [ 3, 45, 66,  4]]),\n",
       " (2, 4),\n",
       " 2)"
      ]
     },
     "execution_count": 7,
     "metadata": {},
     "output_type": "execute_result"
    }
   ],
   "source": [
    "#2 d array\n",
    "a = np.array([[1, 2 , 3 , 5],[3,45,66,4]])\n",
    "a , a.shape , a.ndim"
   ]
  },
  {
   "cell_type": "code",
   "execution_count": 8,
   "id": "507dbe4d",
   "metadata": {},
   "outputs": [
    {
     "name": "stdout",
     "output_type": "stream",
     "text": [
      "[[[ 1  2  3  4]\n",
      "  [ 2  3  5 67]\n",
      "  [ 0  0  0  0]]\n",
      "\n",
      " [[ 1 34  5  0]\n",
      "  [43 55 32  0]\n",
      "  [ 0  0  0  0]]]\n",
      "(2, 3, 4)\n",
      "3\n"
     ]
    }
   ],
   "source": [
    "# 3d array\n",
    "\n",
    "a = np.array([[[1,2,3,4], [2,3,5,67], [0,0,0,0]], [[1,34,5,0], [43,55,32,0], [0,0,0,0]]])\n",
    "\n",
    "print(a)\n",
    "print(a.shape)\n",
    "print(a.ndim)"
   ]
  },
  {
   "cell_type": "markdown",
   "id": "baf37757",
   "metadata": {},
   "source": [
    "# Array Indexing and Slicing"
   ]
  },
  {
   "cell_type": "code",
   "execution_count": 9,
   "id": "9253057a",
   "metadata": {},
   "outputs": [
    {
     "data": {
      "text/plain": [
       "4"
      ]
     },
     "execution_count": 9,
     "metadata": {},
     "output_type": "execute_result"
    }
   ],
   "source": [
    "a = np.array([1, 2, 3, 4])\n",
    "a[-1]"
   ]
  },
  {
   "cell_type": "code",
   "execution_count": 10,
   "id": "a2ee0a0f",
   "metadata": {},
   "outputs": [
    {
     "data": {
      "text/plain": [
       "array([[1, 2, 3, 4],\n",
       "       [5, 4, 3, 2]])"
      ]
     },
     "execution_count": 10,
     "metadata": {},
     "output_type": "execute_result"
    }
   ],
   "source": [
    "a = np.array([[1, 2, 3, 4] , [5,4,3,2]])\n",
    "a"
   ]
  },
  {
   "cell_type": "code",
   "execution_count": 11,
   "id": "437aa793",
   "metadata": {},
   "outputs": [
    {
     "data": {
      "text/plain": [
       "1"
      ]
     },
     "execution_count": 11,
     "metadata": {},
     "output_type": "execute_result"
    }
   ],
   "source": [
    "a[0,0]"
   ]
  },
  {
   "cell_type": "code",
   "execution_count": 12,
   "id": "ede4419f",
   "metadata": {},
   "outputs": [
    {
     "data": {
      "text/plain": [
       "4"
      ]
     },
     "execution_count": 12,
     "metadata": {},
     "output_type": "execute_result"
    }
   ],
   "source": [
    "a[0][-1] #-1 refers to last index\n",
    "a[0 ,-1]"
   ]
  },
  {
   "cell_type": "code",
   "execution_count": 13,
   "id": "a8ee1a82",
   "metadata": {},
   "outputs": [
    {
     "data": {
      "text/plain": [
       "(4, 4)"
      ]
     },
     "execution_count": 13,
     "metadata": {},
     "output_type": "execute_result"
    }
   ],
   "source": [
    "a[0][-1] , a[0 ,-1]"
   ]
  },
  {
   "cell_type": "code",
   "execution_count": 14,
   "id": "0fb02813",
   "metadata": {},
   "outputs": [
    {
     "data": {
      "text/plain": [
       "array([[[ 1,  2,  3,  4],\n",
       "        [ 2,  3,  5, 67],\n",
       "        [ 0,  0,  0,  0]],\n",
       "\n",
       "       [[ 1, 34,  5,  0],\n",
       "        [43, 55, 32,  0],\n",
       "        [ 0,  0,  0,  0]]])"
      ]
     },
     "execution_count": 14,
     "metadata": {},
     "output_type": "execute_result"
    }
   ],
   "source": [
    "a = np.array([[[1,2,3,4], [2,3,5,67], [0,0,0,0]], [[1,34,5,0], [43,55,32,0], [0,0,0,0]]])\n",
    "a"
   ]
  },
  {
   "cell_type": "code",
   "execution_count": 15,
   "id": "2221fe82",
   "metadata": {},
   "outputs": [
    {
     "data": {
      "text/plain": [
       "(2, 3, 4)"
      ]
     },
     "execution_count": 15,
     "metadata": {},
     "output_type": "execute_result"
    }
   ],
   "source": [
    "a.shape  #2 rows  coloms "
   ]
  },
  {
   "cell_type": "code",
   "execution_count": 16,
   "id": "5a322bbc",
   "metadata": {},
   "outputs": [
    {
     "data": {
      "text/plain": [
       "array([[ 1,  2,  3,  4],\n",
       "       [ 2,  3,  5, 67],\n",
       "       [ 0,  0,  0,  0]])"
      ]
     },
     "execution_count": 16,
     "metadata": {},
     "output_type": "execute_result"
    }
   ],
   "source": [
    "a[0]"
   ]
  },
  {
   "cell_type": "code",
   "execution_count": 18,
   "id": "d99fb6e6",
   "metadata": {},
   "outputs": [
    {
     "data": {
      "text/plain": [
       "array([ 2,  3,  5, 67])"
      ]
     },
     "execution_count": 18,
     "metadata": {},
     "output_type": "execute_result"
    }
   ],
   "source": [
    "a[0][1]"
   ]
  },
  {
   "cell_type": "code",
   "execution_count": 20,
   "id": "e74ed8f3",
   "metadata": {},
   "outputs": [
    {
     "data": {
      "text/plain": [
       "5"
      ]
     },
     "execution_count": 20,
     "metadata": {},
     "output_type": "execute_result"
    }
   ],
   "source": [
    "a[0][1][2]"
   ]
  },
  {
   "cell_type": "code",
   "execution_count": 21,
   "id": "a612f5f4",
   "metadata": {},
   "outputs": [
    {
     "data": {
      "text/plain": [
       "array([[2, 3],\n",
       "       [3, 5],\n",
       "       [0, 0]])"
      ]
     },
     "execution_count": 21,
     "metadata": {},
     "output_type": "execute_result"
    }
   ],
   "source": [
    "a[0 , : , 1:3]"
   ]
  },
  {
   "cell_type": "markdown",
   "id": "371540e3",
   "metadata": {},
   "source": [
    "# Numpy Data Types! \n",
    "\n",
    "#### i - integer\n",
    "#### b - boolean\n",
    "#### u - unsigned integer\n",
    "#### f - float\n",
    "#### c - complex float\n",
    "#### m - timedelta\n",
    "#### M - datetime\n",
    "####  O - object\n",
    "#### S- String\n",
    "#### U - unicode string\n",
    "#### v - fixed chunk of memory for other type (void)"
   ]
  },
  {
   "cell_type": "code",
   "execution_count": 23,
   "id": "585ba935",
   "metadata": {},
   "outputs": [
    {
     "data": {
      "text/plain": [
       "(array([1, 2, 3, 4]), dtype('int32'))"
      ]
     },
     "execution_count": 23,
     "metadata": {},
     "output_type": "execute_result"
    }
   ],
   "source": [
    "a = np.array([1, 2, 3, 4])\n",
    "a , a.dtype"
   ]
  },
  {
   "cell_type": "code",
   "execution_count": 24,
   "id": "a9fa6280",
   "metadata": {},
   "outputs": [
    {
     "data": {
      "text/plain": [
       "(array([ 1.  ,  2.  ,  3.  , 44.55]), dtype('float64'))"
      ]
     },
     "execution_count": 24,
     "metadata": {},
     "output_type": "execute_result"
    }
   ],
   "source": [
    "a = np.array([1, 2, 3, 44.55])\n",
    "a , a.dtype"
   ]
  },
  {
   "cell_type": "code",
   "execution_count": 25,
   "id": "9baaed1c",
   "metadata": {},
   "outputs": [
    {
     "data": {
      "text/plain": [
       "(array(['Apple', 'Pakistan'], dtype='<U8'), dtype('<U8'))"
      ]
     },
     "execution_count": 25,
     "metadata": {},
     "output_type": "execute_result"
    }
   ],
   "source": [
    "a = np.array([\"Apple\" ,\"Pakistan\"])\n",
    "a , a.dtype\n",
    "\n",
    "#dtype('<U8')) tells the maximum length"
   ]
  },
  {
   "cell_type": "code",
   "execution_count": 28,
   "id": "3d23f1d8",
   "metadata": {},
   "outputs": [
    {
     "data": {
      "text/plain": [
       "(array([b'Apple', b'Pakistan'], dtype='|S8'), dtype('S8'))"
      ]
     },
     "execution_count": 28,
     "metadata": {},
     "output_type": "execute_result"
    }
   ],
   "source": [
    "a = np.array([\"Apple\" ,\"Pakistan\"] , dtype = \"S\")\n",
    "a , a.dtype"
   ]
  },
  {
   "cell_type": "code",
   "execution_count": 29,
   "id": "d425fd44",
   "metadata": {},
   "outputs": [
    {
     "data": {
      "text/plain": [
       "(array([0., 1.], dtype=float32), dtype('float32'))"
      ]
     },
     "execution_count": 29,
     "metadata": {},
     "output_type": "execute_result"
    }
   ],
   "source": [
    "a = np.array([\"0\" ,\"1\"] , dtype = \"f\")\n",
    "a , a.dtype"
   ]
  },
  {
   "cell_type": "code",
   "execution_count": 34,
   "id": "f6c1b83f",
   "metadata": {},
   "outputs": [
    {
     "data": {
      "text/plain": [
       "(array([0. , 1.1], dtype=float32), dtype('float32'))"
      ]
     },
     "execution_count": 34,
     "metadata": {},
     "output_type": "execute_result"
    }
   ],
   "source": [
    "a = np.array([\"0.0\" ,\"1.1\"] , dtype = \"f\")\n",
    "a , a.dtype"
   ]
  },
  {
   "cell_type": "code",
   "execution_count": 35,
   "id": "93950b62",
   "metadata": {},
   "outputs": [],
   "source": [
    "b = a.astype(\"i\")"
   ]
  },
  {
   "cell_type": "code",
   "execution_count": 36,
   "id": "48af573c",
   "metadata": {},
   "outputs": [],
   "source": [
    "b = a.astype(\"bool\")"
   ]
  },
  {
   "cell_type": "code",
   "execution_count": 37,
   "id": "eedd4779",
   "metadata": {},
   "outputs": [
    {
     "data": {
      "text/plain": [
       "array([0. , 1.1], dtype=float32)"
      ]
     },
     "execution_count": 37,
     "metadata": {},
     "output_type": "execute_result"
    }
   ],
   "source": [
    "a"
   ]
  },
  {
   "cell_type": "code",
   "execution_count": 39,
   "id": "98189414",
   "metadata": {},
   "outputs": [
    {
     "data": {
      "text/plain": [
       "array([ 1.  ,  2.  ,  3.  , 44.55])"
      ]
     },
     "execution_count": 39,
     "metadata": {},
     "output_type": "execute_result"
    }
   ],
   "source": [
    "a = np.array([1, 2, 3, 44.55])\n",
    "a.sort() #assending order\n",
    "a"
   ]
  },
  {
   "cell_type": "code",
   "execution_count": 41,
   "id": "eb2f6a04",
   "metadata": {},
   "outputs": [
    {
     "data": {
      "text/plain": [
       "array([44.55,  3.  ,  2.  ,  1.  ])"
      ]
     },
     "execution_count": 41,
     "metadata": {},
     "output_type": "execute_result"
    }
   ],
   "source": [
    "-np.sort(-a)"
   ]
  },
  {
   "cell_type": "code",
   "execution_count": 42,
   "id": "d3b82f37",
   "metadata": {},
   "outputs": [
    {
     "data": {
      "text/plain": [
       "array([-44.55,  -3.  ,  -2.  ,  -1.  ])"
      ]
     },
     "execution_count": 42,
     "metadata": {},
     "output_type": "execute_result"
    }
   ],
   "source": [
    "np.sort(-a)"
   ]
  },
  {
   "cell_type": "markdown",
   "id": "71f37fe9",
   "metadata": {},
   "source": [
    "# np.nan and np.inf"
   ]
  },
  {
   "cell_type": "code",
   "execution_count": 43,
   "id": "d2f73035",
   "metadata": {},
   "outputs": [
    {
     "data": {
      "text/plain": [
       "nan"
      ]
     },
     "execution_count": 43,
     "metadata": {},
     "output_type": "execute_result"
    }
   ],
   "source": [
    "#nan is not a number and inf is infinite\n",
    "np.nan"
   ]
  },
  {
   "cell_type": "code",
   "execution_count": 44,
   "id": "5151ab3c",
   "metadata": {},
   "outputs": [
    {
     "data": {
      "text/plain": [
       "False"
      ]
     },
     "execution_count": 44,
     "metadata": {},
     "output_type": "execute_result"
    }
   ],
   "source": [
    "np.nan == np.nan"
   ]
  },
  {
   "cell_type": "code",
   "execution_count": 45,
   "id": "32183ebe",
   "metadata": {},
   "outputs": [
    {
     "data": {
      "text/plain": [
       "(nan, nan)"
      ]
     },
     "execution_count": 45,
     "metadata": {},
     "output_type": "execute_result"
    }
   ],
   "source": [
    "np.nan == np.nan\n",
    "a = np.nan\n",
    "b = np.nan\n",
    "a,b"
   ]
  },
  {
   "cell_type": "code",
   "execution_count": 47,
   "id": "856847d5",
   "metadata": {},
   "outputs": [
    {
     "data": {
      "text/plain": [
       "(False, False, False)"
      ]
     },
     "execution_count": 47,
     "metadata": {},
     "output_type": "execute_result"
    }
   ],
   "source": [
    "a == b , a>b ,a<b"
   ]
  },
  {
   "cell_type": "code",
   "execution_count": 48,
   "id": "b90da028",
   "metadata": {},
   "outputs": [
    {
     "data": {
      "text/plain": [
       "(inf, inf)"
      ]
     },
     "execution_count": 48,
     "metadata": {},
     "output_type": "execute_result"
    }
   ],
   "source": [
    "a = np.inf\n",
    "b = np.inf\n",
    "a,b"
   ]
  },
  {
   "cell_type": "code",
   "execution_count": 49,
   "id": "bbb80790",
   "metadata": {},
   "outputs": [
    {
     "data": {
      "text/plain": [
       "(True, False)"
      ]
     },
     "execution_count": 49,
     "metadata": {},
     "output_type": "execute_result"
    }
   ],
   "source": [
    "a == b , a>b"
   ]
  },
  {
   "cell_type": "code",
   "execution_count": 52,
   "id": "59185004",
   "metadata": {},
   "outputs": [
    {
     "data": {
      "text/plain": [
       "(None, NoneType)"
      ]
     },
     "execution_count": 52,
     "metadata": {},
     "output_type": "execute_result"
    }
   ],
   "source": [
    "None , type(None)"
   ]
  },
  {
   "cell_type": "code",
   "execution_count": 56,
   "id": "2a37d780",
   "metadata": {},
   "outputs": [
    {
     "data": {
      "text/plain": [
       "((2, 4), dtype('float64'))"
      ]
     },
     "execution_count": 56,
     "metadata": {},
     "output_type": "execute_result"
    }
   ],
   "source": [
    "a = np.array([[1,2,34,4] , [2,4,66,4]] , dtype = \"float\")\n",
    "a.shape ,a.dtype #two rows 4 colums"
   ]
  },
  {
   "cell_type": "code",
   "execution_count": 57,
   "id": "840b438a",
   "metadata": {},
   "outputs": [
    {
     "data": {
      "text/plain": [
       "array([[ 1.,  2., 34.,  4.],\n",
       "       [ 2.,  4., 66.,  4.]])"
      ]
     },
     "execution_count": 57,
     "metadata": {},
     "output_type": "execute_result"
    }
   ],
   "source": [
    "a"
   ]
  },
  {
   "cell_type": "code",
   "execution_count": 62,
   "id": "514db566",
   "metadata": {},
   "outputs": [
    {
     "data": {
      "text/plain": [
       "array([[ 1., nan, inf,  4.],\n",
       "       [ 2.,  4., 66.,  4.]])"
      ]
     },
     "execution_count": 62,
     "metadata": {},
     "output_type": "execute_result"
    }
   ],
   "source": [
    "a[0][1] = np.nan\n",
    "a[0][2] = np.inf\n",
    "a"
   ]
  },
  {
   "cell_type": "code",
   "execution_count": 63,
   "id": "c15708ce",
   "metadata": {},
   "outputs": [
    {
     "data": {
      "text/plain": [
       "array([[False,  True, False, False],\n",
       "       [False, False, False, False]])"
      ]
     },
     "execution_count": 63,
     "metadata": {},
     "output_type": "execute_result"
    }
   ],
   "source": [
    "np.isnan(a)"
   ]
  },
  {
   "cell_type": "code",
   "execution_count": 64,
   "id": "ec96d68e",
   "metadata": {},
   "outputs": [
    {
     "data": {
      "text/plain": [
       "array([[False, False,  True, False],\n",
       "       [False, False, False, False]])"
      ]
     },
     "execution_count": 64,
     "metadata": {},
     "output_type": "execute_result"
    }
   ],
   "source": [
    "np.isinf(a)"
   ]
  },
  {
   "cell_type": "markdown",
   "id": "4e010b75",
   "metadata": {},
   "source": [
    "# Statistical Operations"
   ]
  },
  {
   "cell_type": "code",
   "execution_count": 66,
   "id": "22dd86bd",
   "metadata": {},
   "outputs": [
    {
     "data": {
      "text/plain": [
       "array([1, 2, 3, 4])"
      ]
     },
     "execution_count": 66,
     "metadata": {},
     "output_type": "execute_result"
    }
   ],
   "source": [
    "a = np.array([1, 2, 3, 4])\n",
    "a"
   ]
  },
  {
   "cell_type": "code",
   "execution_count": 68,
   "id": "c07d5c69",
   "metadata": {},
   "outputs": [
    {
     "data": {
      "text/plain": [
       "(2.5, 2.5, 2.5)"
      ]
     },
     "execution_count": 68,
     "metadata": {},
     "output_type": "execute_result"
    }
   ],
   "source": [
    "a.mean() , np.mean(a) , np.mean([1, 2, 3, 4]) #All are Same!"
   ]
  },
  {
   "cell_type": "code",
   "execution_count": 69,
   "id": "5810ff1f",
   "metadata": {},
   "outputs": [
    {
     "data": {
      "text/plain": [
       "1.25"
      ]
     },
     "execution_count": 69,
     "metadata": {},
     "output_type": "execute_result"
    }
   ],
   "source": [
    "a.var()"
   ]
  },
  {
   "cell_type": "code",
   "execution_count": 70,
   "id": "64fa2960",
   "metadata": {},
   "outputs": [
    {
     "data": {
      "text/plain": [
       "1.118033988749895"
      ]
     },
     "execution_count": 70,
     "metadata": {},
     "output_type": "execute_result"
    }
   ],
   "source": [
    "a.std()"
   ]
  },
  {
   "cell_type": "code",
   "execution_count": 73,
   "id": "16e3953b",
   "metadata": {},
   "outputs": [
    {
     "data": {
      "text/plain": [
       "2.5"
      ]
     },
     "execution_count": 73,
     "metadata": {},
     "output_type": "execute_result"
    }
   ],
   "source": [
    "np.median(a)"
   ]
  },
  {
   "cell_type": "code",
   "execution_count": 74,
   "id": "54891188",
   "metadata": {},
   "outputs": [
    {
     "data": {
      "text/plain": [
       "array([[1, 2, 3, 4],\n",
       "       [5, 4, 3, 2]])"
      ]
     },
     "execution_count": 74,
     "metadata": {},
     "output_type": "execute_result"
    }
   ],
   "source": [
    "a = np.array([[1, 2, 3, 4] , [5,4,3,2]])\n",
    "a"
   ]
  },
  {
   "cell_type": "code",
   "execution_count": 75,
   "id": "cebdcfec",
   "metadata": {},
   "outputs": [
    {
     "data": {
      "text/plain": [
       "3.0"
      ]
     },
     "execution_count": 75,
     "metadata": {},
     "output_type": "execute_result"
    }
   ],
   "source": [
    "a.mean()"
   ]
  },
  {
   "cell_type": "code",
   "execution_count": 76,
   "id": "8c82218a",
   "metadata": {},
   "outputs": [
    {
     "data": {
      "text/plain": [
       "3.0"
      ]
     },
     "execution_count": 76,
     "metadata": {},
     "output_type": "execute_result"
    }
   ],
   "source": [
    "np.mean(a)"
   ]
  },
  {
   "cell_type": "code",
   "execution_count": 77,
   "id": "baeeb1a1",
   "metadata": {},
   "outputs": [
    {
     "data": {
      "text/plain": [
       "3.0"
      ]
     },
     "execution_count": 77,
     "metadata": {},
     "output_type": "execute_result"
    }
   ],
   "source": [
    "np.median(a)"
   ]
  },
  {
   "cell_type": "code",
   "execution_count": 78,
   "id": "df40b589",
   "metadata": {},
   "outputs": [
    {
     "data": {
      "text/plain": [
       "1.5"
      ]
     },
     "execution_count": 78,
     "metadata": {},
     "output_type": "execute_result"
    }
   ],
   "source": [
    "a.var()"
   ]
  },
  {
   "cell_type": "code",
   "execution_count": 79,
   "id": "1befe75f",
   "metadata": {},
   "outputs": [
    {
     "data": {
      "text/plain": [
       "1.224744871391589"
      ]
     },
     "execution_count": 79,
     "metadata": {},
     "output_type": "execute_result"
    }
   ],
   "source": [
    "a.std()"
   ]
  },
  {
   "cell_type": "markdown",
   "id": "301f9dce",
   "metadata": {},
   "source": [
    "# Shape() , Reshape() , Ravel() , Flatten()!\n"
   ]
  },
  {
   "cell_type": "code",
   "execution_count": 80,
   "id": "9d5d08c6",
   "metadata": {},
   "outputs": [
    {
     "data": {
      "text/plain": [
       "array([[1, 2, 3, 4],\n",
       "       [5, 4, 3, 2]])"
      ]
     },
     "execution_count": 80,
     "metadata": {},
     "output_type": "execute_result"
    }
   ],
   "source": [
    "a"
   ]
  },
  {
   "cell_type": "code",
   "execution_count": 81,
   "id": "8c85f60f",
   "metadata": {
    "scrolled": true
   },
   "outputs": [
    {
     "data": {
      "text/plain": [
       "(2, (2, 4))"
      ]
     },
     "execution_count": 81,
     "metadata": {},
     "output_type": "execute_result"
    }
   ],
   "source": [
    "a.ndim , a.shape"
   ]
  },
  {
   "cell_type": "code",
   "execution_count": 94,
   "id": "dc7de6bf",
   "metadata": {},
   "outputs": [
    {
     "data": {
      "text/plain": [
       "array([[1, 2, 3, 4, 5, 4, 3, 2]])"
      ]
     },
     "execution_count": 94,
     "metadata": {},
     "output_type": "execute_result"
    }
   ],
   "source": [
    "a.reshape(1,8)"
   ]
  },
  {
   "cell_type": "code",
   "execution_count": 96,
   "id": "73497712",
   "metadata": {},
   "outputs": [
    {
     "data": {
      "text/plain": [
       "array([1, 2, 3, 4, 5, 4, 3, 2])"
      ]
     },
     "execution_count": 96,
     "metadata": {},
     "output_type": "execute_result"
    }
   ],
   "source": [
    "a.ravel()"
   ]
  },
  {
   "cell_type": "code",
   "execution_count": 97,
   "id": "f9b7f473",
   "metadata": {},
   "outputs": [
    {
     "data": {
      "text/plain": [
       "array([1, 2, 3, 4, 5, 4, 3, 2])"
      ]
     },
     "execution_count": 97,
     "metadata": {},
     "output_type": "execute_result"
    }
   ],
   "source": [
    "a.flatten()"
   ]
  },
  {
   "cell_type": "markdown",
   "id": "789b507b",
   "metadata": {},
   "source": [
    "# arrange() , linespace() , range() , random() , zeros() , and ones()"
   ]
  },
  {
   "cell_type": "code",
   "execution_count": 99,
   "id": "58f99c0f",
   "metadata": {},
   "outputs": [
    {
     "data": {
      "text/plain": [
       "array([[1, 2, 3, 4],\n",
       "       [5, 4, 3, 2]])"
      ]
     },
     "execution_count": 99,
     "metadata": {},
     "output_type": "execute_result"
    }
   ],
   "source": [
    "a"
   ]
  },
  {
   "cell_type": "code",
   "execution_count": 105,
   "id": "0fefbd68",
   "metadata": {},
   "outputs": [
    {
     "data": {
      "text/plain": [
       "array([ 1.,  2.,  3.,  4.,  5.,  6.,  7.,  8.,  9., 10.])"
      ]
     },
     "execution_count": 105,
     "metadata": {},
     "output_type": "execute_result"
    }
   ],
   "source": [
    "np.arange(1,11 ,dtype = \"float\") #or int"
   ]
  },
  {
   "cell_type": "code",
   "execution_count": 107,
   "id": "f7acffb6",
   "metadata": {},
   "outputs": [
    {
     "data": {
      "text/plain": [
       "array([ 1,  4,  7, 10])"
      ]
     },
     "execution_count": 107,
     "metadata": {},
     "output_type": "execute_result"
    }
   ],
   "source": [
    "np.arange(1,11 ,3 ,dtype = \"int\")"
   ]
  },
  {
   "cell_type": "code",
   "execution_count": 110,
   "id": "8fd3b2f8",
   "metadata": {},
   "outputs": [
    {
     "data": {
      "text/plain": [
       "array([ 1,  1,  1,  1,  1,  2,  2,  2,  2,  3,  3,  3,  3,  4,  4,  4,  4,\n",
       "        4,  5,  5,  5,  5,  6,  6,  6,  6,  7,  7,  7,  7,  7,  8,  8,  8,\n",
       "        8,  9,  9,  9,  9, 10, 10, 10, 10, 11])"
      ]
     },
     "execution_count": 110,
     "metadata": {},
     "output_type": "execute_result"
    }
   ],
   "source": [
    "np.linspace(1,11 ,44 ,dtype = \"int\")"
   ]
  },
  {
   "cell_type": "code",
   "execution_count": 111,
   "id": "7aa3b144",
   "metadata": {},
   "outputs": [],
   "source": [
    "from numpy import random"
   ]
  },
  {
   "cell_type": "code",
   "execution_count": 117,
   "id": "e4758bfc",
   "metadata": {},
   "outputs": [
    {
     "data": {
      "text/plain": [
       "2"
      ]
     },
     "execution_count": 117,
     "metadata": {},
     "output_type": "execute_result"
    }
   ],
   "source": [
    "random.randint(1,10)"
   ]
  },
  {
   "cell_type": "code",
   "execution_count": 119,
   "id": "b8ec4054",
   "metadata": {},
   "outputs": [
    {
     "data": {
      "text/plain": [
       "array([1, 2, 3, 4, 5, 6, 7, 8, 9])"
      ]
     },
     "execution_count": 119,
     "metadata": {},
     "output_type": "execute_result"
    }
   ],
   "source": [
    "np.array(range(1,10))"
   ]
  },
  {
   "cell_type": "code",
   "execution_count": 121,
   "id": "dcc2793f",
   "metadata": {},
   "outputs": [
    {
     "data": {
      "text/plain": [
       "array([[0., 0., 0., 0., 0.],\n",
       "       [0., 0., 0., 0., 0.],\n",
       "       [0., 0., 0., 0., 0.],\n",
       "       [0., 0., 0., 0., 0.],\n",
       "       [0., 0., 0., 0., 0.],\n",
       "       [0., 0., 0., 0., 0.]])"
      ]
     },
     "execution_count": 121,
     "metadata": {},
     "output_type": "execute_result"
    }
   ],
   "source": [
    "np.zeros([6,5])"
   ]
  },
  {
   "cell_type": "code",
   "execution_count": 123,
   "id": "523af883",
   "metadata": {},
   "outputs": [
    {
     "data": {
      "text/plain": [
       "array([[1.],\n",
       "       [1.],\n",
       "       [1.],\n",
       "       [1.],\n",
       "       [1.]])"
      ]
     },
     "execution_count": 123,
     "metadata": {},
     "output_type": "execute_result"
    }
   ],
   "source": [
    "np.ones([5])"
   ]
  },
  {
   "cell_type": "code",
   "execution_count": 127,
   "id": "b6abaa36",
   "metadata": {},
   "outputs": [
    {
     "data": {
      "text/plain": [
       "array([[1., 1.],\n",
       "       [1., 1.],\n",
       "       [1., 1.],\n",
       "       [1., 1.],\n",
       "       [1., 1.]])"
      ]
     },
     "execution_count": 127,
     "metadata": {},
     "output_type": "execute_result"
    }
   ],
   "source": [
    "np.ones([5 ,2])"
   ]
  },
  {
   "cell_type": "code",
   "execution_count": 128,
   "id": "4f0bb124",
   "metadata": {},
   "outputs": [
    {
     "data": {
      "text/plain": [
       "array([[[1., 1., 1., 1.],\n",
       "        [1., 1., 1., 1.]],\n",
       "\n",
       "       [[1., 1., 1., 1.],\n",
       "        [1., 1., 1., 1.]],\n",
       "\n",
       "       [[1., 1., 1., 1.],\n",
       "        [1., 1., 1., 1.]],\n",
       "\n",
       "       [[1., 1., 1., 1.],\n",
       "        [1., 1., 1., 1.]],\n",
       "\n",
       "       [[1., 1., 1., 1.],\n",
       "        [1., 1., 1., 1.]]])"
      ]
     },
     "execution_count": 128,
     "metadata": {},
     "output_type": "execute_result"
    }
   ],
   "source": [
    "np.ones([5 ,2,4])"
   ]
  },
  {
   "cell_type": "code",
   "execution_count": 130,
   "id": "3f82decb",
   "metadata": {},
   "outputs": [
    {
     "data": {
      "text/plain": [
       "(5, 2, 4)"
      ]
     },
     "execution_count": 130,
     "metadata": {},
     "output_type": "execute_result"
    }
   ],
   "source": [
    "np.ones([5 ,2,4]).shape"
   ]
  },
  {
   "cell_type": "code",
   "execution_count": 131,
   "id": "68476ab7",
   "metadata": {},
   "outputs": [
    {
     "data": {
      "text/plain": [
       "array([ 1,  3, 45,  1,  3, 45,  1,  3, 45])"
      ]
     },
     "execution_count": 131,
     "metadata": {},
     "output_type": "execute_result"
    }
   ],
   "source": [
    "np.tile([1,3,45] ,3)"
   ]
  },
  {
   "cell_type": "code",
   "execution_count": 133,
   "id": "95b66d4c",
   "metadata": {},
   "outputs": [
    {
     "data": {
      "text/plain": [
       "array([ 1,  1,  3,  3, 45, 45])"
      ]
     },
     "execution_count": 133,
     "metadata": {},
     "output_type": "execute_result"
    }
   ],
   "source": [
    "np.repeat([1,3,45] , 2)"
   ]
  },
  {
   "cell_type": "markdown",
   "id": "12e13823",
   "metadata": {},
   "source": [
    "# Where"
   ]
  },
  {
   "cell_type": "code",
   "execution_count": 134,
   "id": "5237d99f",
   "metadata": {},
   "outputs": [
    {
     "data": {
      "text/plain": [
       "array([[1, 2, 3, 4],\n",
       "       [5, 4, 3, 2]])"
      ]
     },
     "execution_count": 134,
     "metadata": {},
     "output_type": "execute_result"
    }
   ],
   "source": [
    "a"
   ]
  },
  {
   "cell_type": "code",
   "execution_count": 136,
   "id": "5c85da91",
   "metadata": {},
   "outputs": [
    {
     "data": {
      "text/plain": [
       "(array([0, 1, 1], dtype=int64), array([3, 0, 1], dtype=int64))"
      ]
     },
     "execution_count": 136,
     "metadata": {},
     "output_type": "execute_result"
    }
   ],
   "source": [
    "np.where(a>3)"
   ]
  },
  {
   "cell_type": "code",
   "execution_count": 137,
   "id": "2496397f",
   "metadata": {},
   "outputs": [
    {
     "data": {
      "text/plain": [
       "4"
      ]
     },
     "execution_count": 137,
     "metadata": {},
     "output_type": "execute_result"
    }
   ],
   "source": [
    "a.argmax()"
   ]
  },
  {
   "cell_type": "markdown",
   "id": "06212c7e",
   "metadata": {},
   "source": [
    "# Numpy Array Read and Write"
   ]
  },
  {
   "cell_type": "code",
   "execution_count": 138,
   "id": "f6274d5c",
   "metadata": {},
   "outputs": [
    {
     "data": {
      "text/plain": [
       "array([[1, 2, 3, 4],\n",
       "       [5, 4, 3, 2]])"
      ]
     },
     "execution_count": 138,
     "metadata": {},
     "output_type": "execute_result"
    }
   ],
   "source": [
    "a"
   ]
  },
  {
   "cell_type": "code",
   "execution_count": 140,
   "id": "d8351108",
   "metadata": {},
   "outputs": [],
   "source": [
    "#np.save(\"date/a.npy\" ,a)"
   ]
  },
  {
   "cell_type": "code",
   "execution_count": 143,
   "id": "955e4e12",
   "metadata": {},
   "outputs": [],
   "source": [
    "#np.savetxt(\"date/a.npy\" ,a , delimeter = \" , \")"
   ]
  },
  {
   "cell_type": "code",
   "execution_count": null,
   "id": "722890bb",
   "metadata": {},
   "outputs": [],
   "source": [
    "#np.savez()"
   ]
  },
  {
   "cell_type": "markdown",
   "id": "7e7033c6",
   "metadata": {},
   "source": [
    "# Concatenate and Sorting"
   ]
  },
  {
   "cell_type": "code",
   "execution_count": 144,
   "id": "bb0f4ea9",
   "metadata": {},
   "outputs": [
    {
     "data": {
      "text/plain": [
       "array([[1, 2, 3, 4],\n",
       "       [5, 4, 3, 2]])"
      ]
     },
     "execution_count": 144,
     "metadata": {},
     "output_type": "execute_result"
    }
   ],
   "source": [
    "a"
   ]
  },
  {
   "cell_type": "code",
   "execution_count": 146,
   "id": "671c9b98",
   "metadata": {},
   "outputs": [
    {
     "data": {
      "text/plain": [
       "(2, 4)"
      ]
     },
     "execution_count": 146,
     "metadata": {},
     "output_type": "execute_result"
    }
   ],
   "source": [
    "a.shape\n"
   ]
  },
  {
   "cell_type": "code",
   "execution_count": 150,
   "id": "610a605c",
   "metadata": {},
   "outputs": [
    {
     "data": {
      "text/plain": [
       "array([  1,   3,   4,  22,   1,  43,   4,  22,   1, 452,  43, 242])"
      ]
     },
     "execution_count": 150,
     "metadata": {},
     "output_type": "execute_result"
    }
   ],
   "source": [
    "a = np.array([1,3,4,22])\n",
    "b= np.array([1,43,4,22])\n",
    "c = np.array([1,452,43,242])\n",
    "np.concatenate([a,b,c])"
   ]
  },
  {
   "cell_type": "code",
   "execution_count": 151,
   "id": "024c492b",
   "metadata": {},
   "outputs": [],
   "source": [
    "x= np.concatenate([a,b,c])"
   ]
  },
  {
   "cell_type": "code",
   "execution_count": 154,
   "id": "ebaa2be4",
   "metadata": {},
   "outputs": [
    {
     "data": {
      "text/plain": [
       "array([  1,   1,   1,   3,   4,   4,  22,  22,  43,  43, 242, 452])"
      ]
     },
     "execution_count": 154,
     "metadata": {},
     "output_type": "execute_result"
    }
   ],
   "source": [
    "x.sort()\n",
    "x"
   ]
  },
  {
   "cell_type": "code",
   "execution_count": 156,
   "id": "722bfb29",
   "metadata": {},
   "outputs": [
    {
     "data": {
      "text/plain": [
       "(array([ 1,  3,  4, 22]),\n",
       " array([[  1,   3,   4,  22],\n",
       "        [  1, 452,  43, 242]]))"
      ]
     },
     "execution_count": 156,
     "metadata": {},
     "output_type": "execute_result"
    }
   ],
   "source": [
    "b = np.array([a,c])\n",
    "a,b"
   ]
  },
  {
   "cell_type": "code",
   "execution_count": 158,
   "id": "c585a665",
   "metadata": {},
   "outputs": [],
   "source": [
    "#np.concatenate([a,b])"
   ]
  },
  {
   "cell_type": "code",
   "execution_count": null,
   "id": "8f6e5967",
   "metadata": {},
   "outputs": [],
   "source": []
  }
 ],
 "metadata": {
  "kernelspec": {
   "display_name": "Python 3 (ipykernel)",
   "language": "python",
   "name": "python3"
  },
  "language_info": {
   "codemirror_mode": {
    "name": "ipython",
    "version": 3
   },
   "file_extension": ".py",
   "mimetype": "text/x-python",
   "name": "python",
   "nbconvert_exporter": "python",
   "pygments_lexer": "ipython3",
   "version": "3.11.5"
  }
 },
 "nbformat": 4,
 "nbformat_minor": 5
}
